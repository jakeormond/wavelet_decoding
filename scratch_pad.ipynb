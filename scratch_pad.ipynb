{
 "cells": [
  {
   "cell_type": "code",
   "execution_count": 2,
   "metadata": {},
   "outputs": [],
   "source": [
    "import numpy as np"
   ]
  },
  {
   "cell_type": "code",
   "execution_count": 14,
   "metadata": {},
   "outputs": [
    {
     "data": {
      "text/plain": [
       "array([ 0,  1,  2,  3,  4,  5,  6,  7,  8,  9, 10, 11, 12, 13, 14, 15, 16,\n",
       "       17, 18, 19, 20, 21, 22, 23, 24, 25, 26, 27, 28, 29, 30, 31, 32, 33,\n",
       "       34, 35, 36, 37, 38, 39, 40, 41, 42, 43, 44, 45, 46, 47, 48, 49, 50,\n",
       "       51, 52, 53, 54, 55, 56, 57, 58, 59, 60, 61, 62, 63, 64, 65, 66, 67,\n",
       "       68, 69, 70, 71, 72, 73, 74, 75, 76, 77, 78, 79, 80, 81, 82, 83, 84,\n",
       "       85, 86, 87, 88, 89, 90, 91, 92, 93, 94, 95, 96, 97, 98, 99])"
      ]
     },
     "execution_count": 14,
     "metadata": {},
     "output_type": "execute_result"
    }
   ],
   "source": [
    "# create 500 x 1 array\n",
    "exp_indices = np.arange(500)\n",
    "cv_splits = np.array_split(exp_indices, 5)\n",
    "cv_splits[0]"
   ]
  },
  {
   "cell_type": "code",
   "execution_count": 17,
   "metadata": {},
   "outputs": [
    {
     "name": "stdout",
     "output_type": "stream",
     "text": [
      "[[ 0  1  2  3  4  5  6  7  8  9 10 11 12 13 14 15 16 17 18 19]\n",
      " [20 21 22 23 24 25 26 27 28 29 30 31 32 33 34 35 36 37 38 39]\n",
      " [40 41 42 43 44 45 46 47 48 49 50 51 52 53 54 55 56 57 58 59]\n",
      " [60 61 62 63 64 65 66 67 68 69 70 71 72 73 74 75 76 77 78 79]\n",
      " [80 81 82 83 84 85 86 87 88 89 90 91 92 93 94 95 96 97 98 99]]\n",
      "(5, 20)\n"
     ]
    }
   ],
   "source": [
    "# reshape cv_splits[0] into 5 x 20 array\n",
    "cv_splits_reshape = np.array(cv_splits[0]).reshape(5, 20)\n",
    "print(cv_splits_reshape)\n",
    "print(cv_splits_reshape.shape)"
   ]
  },
  {
   "cell_type": "code",
   "execution_count": 18,
   "metadata": {},
   "outputs": [
    {
     "name": "stdout",
     "output_type": "stream",
     "text": [
      "[ 0  1  2  3  4  5  6  7  8  9 10 11 12 13 14 15 16 17 18 19 20 21 22 23\n",
      " 24 25 26 27 28 29 30 31 32 33 34 35 36 37 38 39 40 41 42 43 44 45 46 47\n",
      " 48 49 50 51 52 53 54 55 56 57 58 59 60 61 62 63 64 65 66 67 68 69 70 71\n",
      " 72 73 74 75 76 77 78 79 80 81 82 83 84 85 86 87 88 89 90 91 92 93 94 95\n",
      " 96 97 98 99]\n",
      "(100,)\n"
     ]
    }
   ],
   "source": [
    "cv_splits_reshape = np.reshape(cv_splits_reshape, cv_splits_reshape.shape[0] \\\n",
    "           * cv_splits_reshape.shape[1])\n",
    "print(cv_splits_reshape)\n",
    "print(cv_splits_reshape.shape)"
   ]
  },
  {
   "cell_type": "code",
   "execution_count": 21,
   "metadata": {},
   "outputs": [
    {
     "name": "stdout",
     "output_type": "stream",
     "text": [
      "[[ 0  1  2  3  4  5  6  7  8  9 10 11 12 13 14 15 16 17 18 19]\n",
      " [20 21 22 23 24 25 26 27 28 29 30 31 32 33 34 35 36 37 38 39]\n",
      " [40 41 42 43 44 45 46 47 48 49 50 51 52 53 54 55 56 57 58 59]\n",
      " [60 61 62 63 64 65 66 67 68 69 70 71 72 73 74 75 76 77 78 79]\n",
      " [80 81 82 83 84 85 86 87 88 89 90 91 92 93 94 95 96 97 98 99]]\n",
      "(5, 20)\n"
     ]
    }
   ],
   "source": [
    "cv_splits_reshape = np.reshape(cv_splits_reshape, (5, 20))\n",
    "print(cv_splits_reshape)\n",
    "print(cv_splits_reshape.shape)"
   ]
  },
  {
   "cell_type": "code",
   "execution_count": 30,
   "metadata": {},
   "outputs": [
    {
     "name": "stdout",
     "output_type": "stream",
     "text": [
      "[ 0  1  2  3  4  5  6  7  8  9 10 11 12 13 14 15 16 17 18 19 20 21 22 23\n",
      " 24 25 26 27 28 29 30 31 32 33 34 35 36 37 38 39 40 41 42 43 44 45 46 47\n",
      " 48 49 50 51 52 53 54 55 56 57 58 59 60 61 62 63 64 65 66 67 68 69 70 71\n",
      " 72 73 74 75 76 77 78 79 80 81 82 83 84 85 86 87 88 89 90 91 92 93 94 95\n",
      " 96 97 98 99]\n",
      "[[ 5  6  7  8  9]\n",
      " [15 16 17 18 19]\n",
      " [25 26 27 28 29]\n",
      " [35 36 37 38 39]\n",
      " [45 46 47 48 49]]\n",
      "(5, 5)\n"
     ]
    }
   ],
   "source": [
    "vector = np.arange(100)\n",
    "print(vector)\n",
    "# array is 2d, with rows 5:10, 15:20, 25:30, 35:40, 45:50\n",
    "array = np.reshape(vector, (10, 10))\n",
    "array = array[0:5, 5:10]\n",
    "print(array)\n",
    "print(array.shape)"
   ]
  },
  {
   "cell_type": "code",
   "execution_count": 35,
   "metadata": {},
   "outputs": [
    {
     "name": "stdout",
     "output_type": "stream",
     "text": [
      "[[ 5  6  7  8  9]\n",
      " [15 16 17 18 19]\n",
      " [25 26 27 28 29]\n",
      " [35 36 37 38 39]\n",
      " [45 46 47 48 49]]\n",
      "(5, 5)\n"
     ]
    }
   ],
   "source": [
    "array2 = vector[..., array]\n",
    "print(array2)\n",
    "print(array2.shape)"
   ]
  },
  {
   "cell_type": "code",
   "execution_count": 31,
   "metadata": {},
   "outputs": [
    {
     "name": "stdout",
     "output_type": "stream",
     "text": [
      "[[ 5  6  7  8  9]\n",
      " [15 16 17 18 19]\n",
      " [25 26 27 28 29]\n",
      " [35 36 37 38 39]\n",
      " [45 46 47 48 49]]\n",
      "(5, 5)\n"
     ]
    }
   ],
   "source": [
    "array2 = vector[array]\n",
    "print(array2)\n",
    "print(array2.shape)"
   ]
  },
  {
   "cell_type": "code",
   "execution_count": 39,
   "metadata": {},
   "outputs": [
    {
     "name": "stdout",
     "output_type": "stream",
     "text": [
      "[100 101 102 103 104 105 106 107 108 109 110 111 112 113 114 115 116 117\n",
      " 118 119 120 121 122 123 124 125 126 127 128 129 130 131 132 133 134 135\n",
      " 136 137 138 139 140 141 142 143 144 145 146 147 148 149 150 151 152 153\n",
      " 154 155 156 157 158 159 160 161 162 163 164 165 166 167 168 169 170 171\n",
      " 172 173 174 175 176 177 178 179 180 181 182 183 184 185 186 187 188 189\n",
      " 190 191 192 193 194 195 196 197 198 199]\n",
      "[[  0 100]\n",
      " [  1 101]\n",
      " [  2 102]\n",
      " [  3 103]\n",
      " [  4 104]\n",
      " [  5 105]\n",
      " [  6 106]\n",
      " [  7 107]\n",
      " [  8 108]\n",
      " [  9 109]\n",
      " [ 10 110]\n",
      " [ 11 111]\n",
      " [ 12 112]\n",
      " [ 13 113]\n",
      " [ 14 114]\n",
      " [ 15 115]\n",
      " [ 16 116]\n",
      " [ 17 117]\n",
      " [ 18 118]\n",
      " [ 19 119]\n",
      " [ 20 120]\n",
      " [ 21 121]\n",
      " [ 22 122]\n",
      " [ 23 123]\n",
      " [ 24 124]\n",
      " [ 25 125]\n",
      " [ 26 126]\n",
      " [ 27 127]\n",
      " [ 28 128]\n",
      " [ 29 129]\n",
      " [ 30 130]\n",
      " [ 31 131]\n",
      " [ 32 132]\n",
      " [ 33 133]\n",
      " [ 34 134]\n",
      " [ 35 135]\n",
      " [ 36 136]\n",
      " [ 37 137]\n",
      " [ 38 138]\n",
      " [ 39 139]\n",
      " [ 40 140]\n",
      " [ 41 141]\n",
      " [ 42 142]\n",
      " [ 43 143]\n",
      " [ 44 144]\n",
      " [ 45 145]\n",
      " [ 46 146]\n",
      " [ 47 147]\n",
      " [ 48 148]\n",
      " [ 49 149]\n",
      " [ 50 150]\n",
      " [ 51 151]\n",
      " [ 52 152]\n",
      " [ 53 153]\n",
      " [ 54 154]\n",
      " [ 55 155]\n",
      " [ 56 156]\n",
      " [ 57 157]\n",
      " [ 58 158]\n",
      " [ 59 159]\n",
      " [ 60 160]\n",
      " [ 61 161]\n",
      " [ 62 162]\n",
      " [ 63 163]\n",
      " [ 64 164]\n",
      " [ 65 165]\n",
      " [ 66 166]\n",
      " [ 67 167]\n",
      " [ 68 168]\n",
      " [ 69 169]\n",
      " [ 70 170]\n",
      " [ 71 171]\n",
      " [ 72 172]\n",
      " [ 73 173]\n",
      " [ 74 174]\n",
      " [ 75 175]\n",
      " [ 76 176]\n",
      " [ 77 177]\n",
      " [ 78 178]\n",
      " [ 79 179]\n",
      " [ 80 180]\n",
      " [ 81 181]\n",
      " [ 82 182]\n",
      " [ 83 183]\n",
      " [ 84 184]\n",
      " [ 85 185]\n",
      " [ 86 186]\n",
      " [ 87 187]\n",
      " [ 88 188]\n",
      " [ 89 189]\n",
      " [ 90 190]\n",
      " [ 91 191]\n",
      " [ 92 192]\n",
      " [ 93 193]\n",
      " [ 94 194]\n",
      " [ 95 195]\n",
      " [ 96 196]\n",
      " [ 97 197]\n",
      " [ 98 198]\n",
      " [ 99 199]]\n",
      "(100, 2)\n"
     ]
    }
   ],
   "source": [
    "vector2 = vector + 100\n",
    "print(vector2)\n",
    "\n",
    "# make an array that has vector and vector2 as columns\n",
    "array3 = np.column_stack((vector, vector2))\n",
    "print(array3)\n",
    "print(array3.shape)"
   ]
  },
  {
   "cell_type": "code",
   "execution_count": 45,
   "metadata": {},
   "outputs": [
    {
     "name": "stdout",
     "output_type": "stream",
     "text": [
      "[[ 15 115]\n",
      " [ 16 116]\n",
      " [ 17 117]\n",
      " [ 18 118]\n",
      " [ 19 119]]\n",
      "[[ 25 125]\n",
      " [ 26 126]\n",
      " [ 27 127]\n",
      " [ 28 128]\n",
      " [ 29 129]]\n",
      "(5, 5, 2)\n"
     ]
    }
   ],
   "source": [
    "array4 = array3[array, ...]\n",
    "print(array4[1,:,:])\n",
    "print(array4[2,:,:])\n",
    "print(array4.shape)"
   ]
  },
  {
   "cell_type": "code",
   "execution_count": 47,
   "metadata": {},
   "outputs": [
    {
     "data": {
      "text/plain": [
       "2"
      ]
     },
     "execution_count": 47,
     "metadata": {},
     "output_type": "execute_result"
    }
   ],
   "source": [
    "len(array3.shape)"
   ]
  },
  {
   "cell_type": "code",
   "execution_count": 50,
   "metadata": {},
   "outputs": [
    {
     "data": {
      "text/plain": [
       "array([15, 31, 47, 63])"
      ]
     },
     "execution_count": 50,
     "metadata": {},
     "output_type": "execute_result"
    }
   ],
   "source": [
    "np.arange(0, 64 + 1, 16)[1::] - 1"
   ]
  },
  {
   "cell_type": "code",
   "execution_count": 51,
   "metadata": {},
   "outputs": [
    {
     "data": {
      "text/plain": [
       "(5, 5, 2)"
      ]
     },
     "execution_count": 51,
     "metadata": {},
     "output_type": "execute_result"
    }
   ],
   "source": [
    "array4.shape"
   ]
  },
  {
   "cell_type": "code",
   "execution_count": 53,
   "metadata": {},
   "outputs": [
    {
     "name": "stdout",
     "output_type": "stream",
     "text": [
      "[[[  6 106]\n",
      "  [  7 107]\n",
      "  [  8 108]]\n",
      "\n",
      " [[ 16 116]\n",
      "  [ 17 117]\n",
      "  [ 18 118]]\n",
      "\n",
      " [[ 26 126]\n",
      "  [ 27 127]\n",
      "  [ 28 128]]\n",
      "\n",
      " [[ 36 136]\n",
      "  [ 37 137]\n",
      "  [ 38 138]]\n",
      "\n",
      " [[ 46 146]\n",
      "  [ 47 147]\n",
      "  [ 48 148]]]\n",
      "(5, 3, 2)\n"
     ]
    }
   ],
   "source": [
    "array5 = array4[:, [1,2,3]]\n",
    "print(array5)\n",
    "print(array5.shape)"
   ]
  },
  {
   "cell_type": "code",
   "execution_count": null,
   "metadata": {},
   "outputs": [],
   "source": []
  }
 ],
 "metadata": {
  "kernelspec": {
   "display_name": "tf",
   "language": "python",
   "name": "python3"
  },
  "language_info": {
   "codemirror_mode": {
    "name": "ipython",
    "version": 3
   },
   "file_extension": ".py",
   "mimetype": "text/x-python",
   "name": "python",
   "nbconvert_exporter": "python",
   "pygments_lexer": "ipython3",
   "version": "3.11.4"
  }
 },
 "nbformat": 4,
 "nbformat_minor": 2
}
